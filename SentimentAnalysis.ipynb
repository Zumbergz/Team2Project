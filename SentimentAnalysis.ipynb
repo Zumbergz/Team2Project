{
 "cells": [
  {
   "cell_type": "code",
   "execution_count": 98,
   "id": "130e68c9",
   "metadata": {},
   "outputs": [],
   "source": [
    "import flair\n",
    "import pandas as pd\n",
    "import torch as pt\n",
    "import requests\n",
    "import matplotlib as plt\n",
    "from datetime import datetime, timedelta"
   ]
  },
  {
   "cell_type": "code",
   "execution_count": 117,
   "id": "dd2b9f81",
   "metadata": {},
   "outputs": [
    {
     "name": "stdout",
     "output_type": "stream",
     "text": [
      "2021-06-29 14:59:42,347 loading file /Users/saadimran/.flair/models/sentiment-en-mix-distillbert_4.pt\n",
      "DATE:  2021-06-22T14:59:50Z\n",
      "DATE:  2021-06-15T14:59:50Z\n",
      "DATE:  2021-06-08T14:59:50Z\n",
      "DATE:  2021-06-01T14:59:50Z\n",
      "DATE:  2021-05-25T14:59:50Z\n",
      "DATE:  2021-05-18T14:59:50Z\n",
      "DATE:  2021-05-11T14:59:50Z\n",
      "DATE:  2021-05-04T14:59:50Z\n",
      "DATE:  2021-04-27T14:59:50Z\n",
      "DATE:  2021-04-20T14:59:50Z\n",
      "DATE:  2021-04-13T14:59:50Z\n",
      "DATE:  2021-04-06T14:59:50Z\n",
      "DATE:  2021-03-30T14:59:50Z\n",
      "DATE:  2021-03-23T14:59:50Z\n",
      "DATE:  2021-03-16T14:59:50Z\n",
      "DATE:  2021-03-09T14:59:50Z\n",
      "DATE:  2021-03-02T14:59:50Z\n",
      "DATE:  2021-02-23T14:59:50Z\n",
      "DATE:  2021-02-16T14:59:50Z\n",
      "DATE:  2021-02-09T14:59:50Z\n",
      "DATE:  2021-02-02T14:59:50Z\n",
      "DATE:  2021-01-26T14:59:50Z\n",
      "DATE:  2021-01-19T14:59:50Z\n",
      "DATE:  2021-01-12T14:59:50Z\n",
      "DATE:  2021-01-05T14:59:50Z\n",
      "DATE:  2020-12-29T14:59:50Z\n",
      "DATE:  2020-12-22T14:59:50Z\n",
      "DATE:  2020-12-15T14:59:50Z\n",
      "DATE:  2020-12-08T14:59:50Z\n",
      "DATE:  2020-12-01T14:59:50Z\n",
      "DATE:  2020-11-24T14:59:50Z\n",
      "DATE:  2020-11-17T14:59:50Z\n",
      "DATE:  2020-11-10T14:59:50Z\n",
      "DATE:  2020-11-03T14:59:50Z\n",
      "DATE:  2020-10-27T14:59:50Z\n",
      "DATE:  2020-10-20T14:59:50Z\n",
      "DATE:  2020-10-13T14:59:50Z\n",
      "DATE:  2020-10-06T14:59:50Z\n",
      "DATE:  2020-09-29T14:59:50Z\n",
      "DATE:  2020-09-22T14:59:50Z\n",
      "DATE:  2020-09-15T14:59:50Z\n",
      "DATE:  2020-09-08T14:59:50Z\n",
      "DATE:  2020-09-01T14:59:50Z\n",
      "DATE:  2020-08-25T14:59:50Z\n",
      "DATE:  2020-08-18T14:59:50Z\n",
      "DATE:  2020-08-11T14:59:50Z\n",
      "DATE:  2020-08-04T14:59:50Z\n",
      "DATE:  2020-07-28T14:59:50Z\n",
      "DATE:  2020-07-21T14:59:50Z\n",
      "DATE:  2020-07-14T14:59:50Z\n",
      "DATE:  2020-07-07T14:59:50Z\n",
      "DATE:  2020-06-30T14:59:50Z\n",
      "DATE:  2020-06-23T14:59:50Z\n",
      "DATE:  2020-06-16T14:59:50Z\n",
      "DATE:  2020-06-09T14:59:50Z\n",
      "DATE:  2020-06-02T14:59:50Z\n",
      "DATE:  2020-05-26T14:59:50Z\n",
      "DATE:  2020-05-19T14:59:50Z\n",
      "DATE:  2020-05-12T14:59:50Z\n",
      "DATE:  2020-05-05T14:59:50Z\n",
      "DATE:  2020-04-28T14:59:50Z\n",
      "DATE:  2020-04-21T14:59:50Z\n",
      "DATE:  2020-04-14T14:59:50Z\n",
      "DATE:  2020-04-07T14:59:50Z\n",
      "DATE:  2020-03-31T14:59:50Z\n",
      "DATE:  2020-03-24T14:59:50Z\n",
      "DATE:  2020-03-17T14:59:50Z\n",
      "DATE:  2020-03-10T14:59:50Z\n",
      "DATE:  2020-03-03T14:59:50Z\n",
      "DATE:  2020-02-25T14:59:50Z\n",
      "DATE:  2020-02-18T14:59:50Z\n",
      "DATE:  2020-02-11T14:59:50Z\n",
      "DATE:  2020-02-04T14:59:50Z\n",
      "DATE:  2020-01-28T14:59:50Z\n",
      "DATE:  2020-01-21T14:59:50Z\n",
      "Done\n"
     ]
    },
    {
     "data": {
      "text/html": [
       "<div>\n",
       "<style scoped>\n",
       "    .dataframe tbody tr th:only-of-type {\n",
       "        vertical-align: middle;\n",
       "    }\n",
       "\n",
       "    .dataframe tbody tr th {\n",
       "        vertical-align: top;\n",
       "    }\n",
       "\n",
       "    .dataframe thead th {\n",
       "        text-align: right;\n",
       "    }\n",
       "</style>\n",
       "<table border=\"1\" class=\"dataframe\">\n",
       "  <thead>\n",
       "    <tr style=\"text-align: right;\">\n",
       "      <th></th>\n",
       "    </tr>\n",
       "  </thead>\n",
       "  <tbody>\n",
       "  </tbody>\n",
       "</table>\n",
       "</div>"
      ],
      "text/plain": [
       "Empty DataFrame\n",
       "Columns: []\n",
       "Index: []"
      ]
     },
     "execution_count": 117,
     "metadata": {},
     "output_type": "execute_result"
    }
   ],
   "source": [
    "sentiment_model = flair.models.TextClassifier.load('en-sentiment')\n",
    "\n",
    "bearer_token = \"AAAAAAAAAAAAAAAAAAAAANUsKQEAAAAA0UrO%2Fzamc57%2FS1xAnkdNjJwl3bw%3DNFWcIjGzshLLZpAUksltVEfg2WWrG9DP3EYunyWSmrrHW3GSte\"\n",
    "params = {\n",
    "    'q': '(covid OR covid-19 OR coronavirus OR rona)(lang:en)',\n",
    "    'tweet_mode': 'extended',\n",
    "    'result_type': 'popular',\n",
    "    'lang': 'en',\n",
    "    'count': '1'\n",
    "}\n",
    "\n",
    "\n",
    "\n",
    "dtformat = '%Y-%m-%dT%H:%M:%SZ'\n",
    "now = datetime.now()\n",
    "now = now.strftime(dtformat)\n",
    "\n",
    "def time_travel(now, days):\n",
    "    now = datetime.strptime(now, dtformat)\n",
    "    back_in_time = now - timedelta(days=days)\n",
    "    return back_in_time.strftime(dtformat)\n",
    "\n",
    "def time_travelMins(now, mins):\n",
    "    now = datetime.strptime(now, dtformat)\n",
    "    back_in_time = now - timedelta(minutes=mins)\n",
    "    return back_in_time.strftime(dtformat)\n",
    "\n",
    "def get_data(tweet):\n",
    "    data = {\n",
    "        'id': tweet['id_str'],\n",
    "        'created_at': tweet['created_at'],\n",
    "        'text': tweet['full_text']\n",
    "    }\n",
    "    return data\n",
    "\n",
    "df = pd.DataFrame()\n",
    "\n",
    "targetDate = time_travel(now, 521)\n",
    "currentDate = now\n",
    "\n",
    "while True:\n",
    "    if currentDate < targetDate:\n",
    "        print(\"Done\")\n",
    "        break\n",
    "    pre60 = time_travelMins(currentDate, 60)\n",
    "    params['start_time'] = pre60\n",
    "    params['end_time'] = currentDate\n",
    "    response = requests.get(\n",
    "    'https://api.twitter.com/1.1/search/tweets.json?',\n",
    "    params=params,\n",
    "    headers={\n",
    "        'authorization': 'Bearer '+ bearer_token\n",
    "    })\n",
    "    for tweet in response.json()['statuses']:\n",
    "        row = get_data(tweet)\n",
    "        df = df.append(row, ignore_index=True)        \n",
    "    \n",
    "    currentDate = time_travel(currentDate, 7)\n",
    "    print(\"DATE: \", currentDate)\n",
    "\n",
    "df.head()"
   ]
  },
  {
   "cell_type": "code",
   "execution_count": 81,
   "id": "2c535196",
   "metadata": {},
   "outputs": [],
   "source": [
    "# Clean the text in all tweets\n",
    "def cleanText(row):\n",
    "    whitespace = re.compile(r\"\\s+\")\n",
    "    web_address = re.compile(r\"(?i)http(s):\\/\\/[a-z0-9.~_\\-\\/]+\")\n",
    "    tesla = re.compile(r\"(?i)@Tesla(?=\\b)\")\n",
    "    user = re.compile(r\"(?i)@[a-z0-9_]+\")\n",
    "    \n",
    "    text = row[\"text\"]\n",
    "    text = whitespace.sub(' ', text)\n",
    "    text = web_address.sub('', text)\n",
    "    text = tesla.sub('Covid', text)\n",
    "    text = user.sub('', text)\n",
    "    return text\n",
    "\n",
    "df[\"cleanText\"] = df.apply(lambda row: cleanText(row), axis = 1)"
   ]
  },
  {
   "cell_type": "code",
   "execution_count": 82,
   "id": "baea5341",
   "metadata": {},
   "outputs": [
    {
     "data": {
      "text/plain": [
       "'RT @CUP_PoliSci: #FirstView from @PoPpublicsphere -\\n\\nCOVID-19 and the Paradox of Scientific Advice - https://t.co/UEuJ1VZGVI\\n\\n- @zpamuk \\n\\n#…'"
      ]
     },
     "execution_count": 82,
     "metadata": {},
     "output_type": "execute_result"
    }
   ],
   "source": [
    "df.loc[1][\"text\"]"
   ]
  },
  {
   "cell_type": "code",
   "execution_count": 83,
   "id": "4857c758",
   "metadata": {},
   "outputs": [
    {
     "data": {
      "text/plain": [
       "'RT : #FirstView from  - COVID-19 and the Paradox of Scientific Advice -  -  #…'"
      ]
     },
     "execution_count": 83,
     "metadata": {},
     "output_type": "execute_result"
    }
   ],
   "source": [
    "df.loc[1][\"cleanText\"]"
   ]
  },
  {
   "cell_type": "code",
   "execution_count": 84,
   "id": "1089b121",
   "metadata": {},
   "outputs": [
    {
     "data": {
      "text/html": [
       "<div>\n",
       "<style scoped>\n",
       "    .dataframe tbody tr th:only-of-type {\n",
       "        vertical-align: middle;\n",
       "    }\n",
       "\n",
       "    .dataframe tbody tr th {\n",
       "        vertical-align: top;\n",
       "    }\n",
       "\n",
       "    .dataframe thead th {\n",
       "        text-align: right;\n",
       "    }\n",
       "</style>\n",
       "<table border=\"1\" class=\"dataframe\">\n",
       "  <thead>\n",
       "    <tr style=\"text-align: right;\">\n",
       "      <th></th>\n",
       "      <th>created_at</th>\n",
       "      <th>id</th>\n",
       "      <th>text</th>\n",
       "      <th>cleanText</th>\n",
       "    </tr>\n",
       "  </thead>\n",
       "  <tbody>\n",
       "    <tr>\n",
       "      <th>0</th>\n",
       "      <td>Tue Jun 29 12:42:36 +0000 2021</td>\n",
       "      <td>1409854813664428034</td>\n",
       "      <td>RT @MimiJ9: The government is in chaos.\\n\\nRam...</td>\n",
       "      <td>RT : The government is in chaos. Rampant corru...</td>\n",
       "    </tr>\n",
       "    <tr>\n",
       "      <th>1</th>\n",
       "      <td>Tue Jun 29 12:42:36 +0000 2021</td>\n",
       "      <td>1409854813492240388</td>\n",
       "      <td>RT @CUP_PoliSci: #FirstView from @PoPpublicsph...</td>\n",
       "      <td>RT : #FirstView from  - COVID-19 and the Parad...</td>\n",
       "    </tr>\n",
       "    <tr>\n",
       "      <th>2</th>\n",
       "      <td>Tue Jun 29 12:42:35 +0000 2021</td>\n",
       "      <td>1409854812527632384</td>\n",
       "      <td>AstraZeneca COVID vaccine produces stronger im...</td>\n",
       "      <td>AstraZeneca COVID vaccine produces stronger im...</td>\n",
       "    </tr>\n",
       "    <tr>\n",
       "      <th>3</th>\n",
       "      <td>Tue Jun 29 12:42:35 +0000 2021</td>\n",
       "      <td>1409854812120834053</td>\n",
       "      <td>RT @fbhutto: Lahore based photographer Nade Al...</td>\n",
       "      <td>RT : Lahore based photographer Nade Ali is str...</td>\n",
       "    </tr>\n",
       "    <tr>\n",
       "      <th>4</th>\n",
       "      <td>Tue Jun 29 12:42:35 +0000 2021</td>\n",
       "      <td>1409854811307081729</td>\n",
       "      <td>RT @avarwallace: In reporting 0 positive covid...</td>\n",
       "      <td>RT : In reporting 0 positive covid tests since...</td>\n",
       "    </tr>\n",
       "  </tbody>\n",
       "</table>\n",
       "</div>"
      ],
      "text/plain": [
       "                       created_at                   id  \\\n",
       "0  Tue Jun 29 12:42:36 +0000 2021  1409854813664428034   \n",
       "1  Tue Jun 29 12:42:36 +0000 2021  1409854813492240388   \n",
       "2  Tue Jun 29 12:42:35 +0000 2021  1409854812527632384   \n",
       "3  Tue Jun 29 12:42:35 +0000 2021  1409854812120834053   \n",
       "4  Tue Jun 29 12:42:35 +0000 2021  1409854811307081729   \n",
       "\n",
       "                                                text  \\\n",
       "0  RT @MimiJ9: The government is in chaos.\\n\\nRam...   \n",
       "1  RT @CUP_PoliSci: #FirstView from @PoPpublicsph...   \n",
       "2  AstraZeneca COVID vaccine produces stronger im...   \n",
       "3  RT @fbhutto: Lahore based photographer Nade Al...   \n",
       "4  RT @avarwallace: In reporting 0 positive covid...   \n",
       "\n",
       "                                           cleanText  \n",
       "0  RT : The government is in chaos. Rampant corru...  \n",
       "1  RT : #FirstView from  - COVID-19 and the Parad...  \n",
       "2  AstraZeneca COVID vaccine produces stronger im...  \n",
       "3  RT : Lahore based photographer Nade Ali is str...  \n",
       "4  RT : In reporting 0 positive covid tests since...  "
      ]
     },
     "execution_count": 84,
     "metadata": {},
     "output_type": "execute_result"
    }
   ],
   "source": [
    "df.head()"
   ]
  },
  {
   "cell_type": "code",
   "execution_count": 85,
   "id": "4224b6be",
   "metadata": {},
   "outputs": [],
   "source": [
    "def getSentiment(row): \n",
    "    sentence = flair.data.Sentence(row[\"cleanText\"])\n",
    "    sentiment_model.predict(sentence)\n",
    "    # probability = sentence.labels[0].score  # numerical value 0-1\n",
    "    return sentence.labels[0].value  # 'POSITIVE' or 'NEGATIVE\n",
    "   \n",
    "def getSentimentProbability(row): \n",
    "    sentence = flair.data.Sentence(row[\"cleanText\"])\n",
    "    sentiment_model.predict(sentence)\n",
    "    return sentence.labels[0].score  # numerical value 0-1\n",
    "    \n",
    "df[\"sentiment\"] = df.apply(lambda row: getSentiment(row), axis = 1)\n",
    "df[\"sentimentProbability\"] = df.apply(lambda row: getSentimentProbability(row), axis = 1)"
   ]
  },
  {
   "cell_type": "code",
   "execution_count": 86,
   "id": "4a920b13",
   "metadata": {},
   "outputs": [
    {
     "data": {
      "text/html": [
       "<div>\n",
       "<style scoped>\n",
       "    .dataframe tbody tr th:only-of-type {\n",
       "        vertical-align: middle;\n",
       "    }\n",
       "\n",
       "    .dataframe tbody tr th {\n",
       "        vertical-align: top;\n",
       "    }\n",
       "\n",
       "    .dataframe thead th {\n",
       "        text-align: right;\n",
       "    }\n",
       "</style>\n",
       "<table border=\"1\" class=\"dataframe\">\n",
       "  <thead>\n",
       "    <tr style=\"text-align: right;\">\n",
       "      <th></th>\n",
       "      <th>created_at</th>\n",
       "      <th>id</th>\n",
       "      <th>text</th>\n",
       "      <th>cleanText</th>\n",
       "      <th>sentiment</th>\n",
       "      <th>sentimentProbability</th>\n",
       "    </tr>\n",
       "  </thead>\n",
       "  <tbody>\n",
       "    <tr>\n",
       "      <th>0</th>\n",
       "      <td>Tue Jun 29 12:42:36 +0000 2021</td>\n",
       "      <td>1409854813664428034</td>\n",
       "      <td>RT @MimiJ9: The government is in chaos.\\n\\nRam...</td>\n",
       "      <td>RT : The government is in chaos. Rampant corru...</td>\n",
       "      <td>NEGATIVE</td>\n",
       "      <td>0.999015</td>\n",
       "    </tr>\n",
       "    <tr>\n",
       "      <th>1</th>\n",
       "      <td>Tue Jun 29 12:42:36 +0000 2021</td>\n",
       "      <td>1409854813492240388</td>\n",
       "      <td>RT @CUP_PoliSci: #FirstView from @PoPpublicsph...</td>\n",
       "      <td>RT : #FirstView from  - COVID-19 and the Parad...</td>\n",
       "      <td>NEGATIVE</td>\n",
       "      <td>0.814061</td>\n",
       "    </tr>\n",
       "    <tr>\n",
       "      <th>2</th>\n",
       "      <td>Tue Jun 29 12:42:35 +0000 2021</td>\n",
       "      <td>1409854812527632384</td>\n",
       "      <td>AstraZeneca COVID vaccine produces stronger im...</td>\n",
       "      <td>AstraZeneca COVID vaccine produces stronger im...</td>\n",
       "      <td>NEGATIVE</td>\n",
       "      <td>0.859850</td>\n",
       "    </tr>\n",
       "    <tr>\n",
       "      <th>3</th>\n",
       "      <td>Tue Jun 29 12:42:35 +0000 2021</td>\n",
       "      <td>1409854812120834053</td>\n",
       "      <td>RT @fbhutto: Lahore based photographer Nade Al...</td>\n",
       "      <td>RT : Lahore based photographer Nade Ali is str...</td>\n",
       "      <td>POSITIVE</td>\n",
       "      <td>0.834321</td>\n",
       "    </tr>\n",
       "    <tr>\n",
       "      <th>4</th>\n",
       "      <td>Tue Jun 29 12:42:35 +0000 2021</td>\n",
       "      <td>1409854811307081729</td>\n",
       "      <td>RT @avarwallace: In reporting 0 positive covid...</td>\n",
       "      <td>RT : In reporting 0 positive covid tests since...</td>\n",
       "      <td>NEGATIVE</td>\n",
       "      <td>0.984053</td>\n",
       "    </tr>\n",
       "  </tbody>\n",
       "</table>\n",
       "</div>"
      ],
      "text/plain": [
       "                       created_at                   id  \\\n",
       "0  Tue Jun 29 12:42:36 +0000 2021  1409854813664428034   \n",
       "1  Tue Jun 29 12:42:36 +0000 2021  1409854813492240388   \n",
       "2  Tue Jun 29 12:42:35 +0000 2021  1409854812527632384   \n",
       "3  Tue Jun 29 12:42:35 +0000 2021  1409854812120834053   \n",
       "4  Tue Jun 29 12:42:35 +0000 2021  1409854811307081729   \n",
       "\n",
       "                                                text  \\\n",
       "0  RT @MimiJ9: The government is in chaos.\\n\\nRam...   \n",
       "1  RT @CUP_PoliSci: #FirstView from @PoPpublicsph...   \n",
       "2  AstraZeneca COVID vaccine produces stronger im...   \n",
       "3  RT @fbhutto: Lahore based photographer Nade Al...   \n",
       "4  RT @avarwallace: In reporting 0 positive covid...   \n",
       "\n",
       "                                           cleanText sentiment  \\\n",
       "0  RT : The government is in chaos. Rampant corru...  NEGATIVE   \n",
       "1  RT : #FirstView from  - COVID-19 and the Parad...  NEGATIVE   \n",
       "2  AstraZeneca COVID vaccine produces stronger im...  NEGATIVE   \n",
       "3  RT : Lahore based photographer Nade Ali is str...  POSITIVE   \n",
       "4  RT : In reporting 0 positive covid tests since...  NEGATIVE   \n",
       "\n",
       "   sentimentProbability  \n",
       "0              0.999015  \n",
       "1              0.814061  \n",
       "2              0.859850  \n",
       "3              0.834321  \n",
       "4              0.984053  "
      ]
     },
     "execution_count": 86,
     "metadata": {},
     "output_type": "execute_result"
    }
   ],
   "source": [
    "df.head()"
   ]
  },
  {
   "cell_type": "code",
   "execution_count": 89,
   "id": "8e70847a",
   "metadata": {},
   "outputs": [
    {
     "data": {
      "text/plain": [
       "'RT : Lahore based photographer Nade Ali is struggling after a fire ravaged his home. He lost his father to Covid, if you can help,…'"
      ]
     },
     "execution_count": 89,
     "metadata": {},
     "output_type": "execute_result"
    }
   ],
   "source": [
    "df.loc[3][\"cleanText\"]"
   ]
  },
  {
   "cell_type": "code",
   "execution_count": 94,
   "id": "4e8e208b",
   "metadata": {},
   "outputs": [
    {
     "name": "stdout",
     "output_type": "stream",
     "text": [
      "2021-06-22T14:05:15Z\n"
     ]
    }
   ],
   "source": [
    "\n",
    "\n",
    "print(time_travel(now, 7))"
   ]
  },
  {
   "cell_type": "code",
   "execution_count": 114,
   "id": "18ba2ef5",
   "metadata": {},
   "outputs": [],
   "source": [
    "f = open(\"data.csv\", \"a\")\n",
    "f.write(df.to_csv(index=False))\n",
    "f.close()"
   ]
  },
  {
   "cell_type": "code",
   "execution_count": null,
   "id": "583094ec",
   "metadata": {},
   "outputs": [],
   "source": []
  }
 ],
 "metadata": {
  "kernelspec": {
   "display_name": "Python 3",
   "language": "python",
   "name": "python3"
  },
  "language_info": {
   "codemirror_mode": {
    "name": "ipython",
    "version": 3
   },
   "file_extension": ".py",
   "mimetype": "text/x-python",
   "name": "python",
   "nbconvert_exporter": "python",
   "pygments_lexer": "ipython3",
   "version": "3.8.8"
  }
 },
 "nbformat": 4,
 "nbformat_minor": 5
}
